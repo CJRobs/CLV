{
 "cells": [
  {
   "cell_type": "markdown",
   "id": "f6bd0a90",
   "metadata": {},
   "source": [
    "# 0. Import Dependencies & Dataset"
   ]
  },
  {
   "cell_type": "code",
   "execution_count": 12,
   "id": "c5cb362a",
   "metadata": {},
   "outputs": [
    {
     "name": "stdout",
     "output_type": "stream",
     "text": [
      "Loaded: walmart.csv\n"
     ]
    }
   ],
   "source": [
    "import kagglehub\n",
    "import pandas as pd\n",
    "from pathlib import Path\n",
    "\n",
    "dataset_path = kagglehub.dataset_download(\"devarajv88/walmart-sales-dataset\")\n",
    "\n",
    "data_dir = Path(dataset_path)\n",
    "csv_files = list(data_dir.glob(\"*.csv\"))\n",
    "\n",
    "if csv_files:\n",
    "    df = pd.read_csv(csv_files[0])\n",
    "    print(f\"Loaded: {csv_files[0].name}\")\n",
    "else:\n",
    "    print(\"No CSV files found\")"
   ]
  },
  {
   "cell_type": "markdown",
   "id": "2771fe1b",
   "metadata": {},
   "source": [
    "# 1. EDA"
   ]
  },
  {
   "cell_type": "code",
   "execution_count": 14,
   "id": "23960b73",
   "metadata": {},
   "outputs": [
    {
     "data": {
      "text/plain": [
       "['User_ID',\n",
       " 'Product_ID',\n",
       " 'Gender',\n",
       " 'Age',\n",
       " 'Occupation',\n",
       " 'City_Category',\n",
       " 'Stay_In_Current_City_Years',\n",
       " 'Marital_Status',\n",
       " 'Product_Category',\n",
       " 'Purchase']"
      ]
     },
     "execution_count": 14,
     "metadata": {},
     "output_type": "execute_result"
    }
   ],
   "source": [
    "df.columns.to_list()"
   ]
  },
  {
   "cell_type": "code",
   "execution_count": 15,
   "id": "bf2c04a0",
   "metadata": {},
   "outputs": [
    {
     "data": {
      "application/vnd.microsoft.datawrangler.viewer.v0+json": {
       "columns": [
        {
         "name": "index",
         "rawType": "object",
         "type": "string"
        },
        {
         "name": "0",
         "rawType": "object",
         "type": "unknown"
        }
       ],
       "ref": "f634f07f-6d44-40b7-997d-e7e20ad8e04f",
       "rows": [
        [
         "User_ID",
         "int64"
        ],
        [
         "Product_ID",
         "object"
        ],
        [
         "Gender",
         "object"
        ],
        [
         "Age",
         "object"
        ],
        [
         "Occupation",
         "int64"
        ],
        [
         "City_Category",
         "object"
        ],
        [
         "Stay_In_Current_City_Years",
         "object"
        ],
        [
         "Marital_Status",
         "int64"
        ],
        [
         "Product_Category",
         "int64"
        ],
        [
         "Purchase",
         "int64"
        ]
       ],
       "shape": {
        "columns": 1,
        "rows": 10
       }
      },
      "text/plain": [
       "User_ID                        int64\n",
       "Product_ID                    object\n",
       "Gender                        object\n",
       "Age                           object\n",
       "Occupation                     int64\n",
       "City_Category                 object\n",
       "Stay_In_Current_City_Years    object\n",
       "Marital_Status                 int64\n",
       "Product_Category               int64\n",
       "Purchase                       int64\n",
       "dtype: object"
      ]
     },
     "execution_count": 15,
     "metadata": {},
     "output_type": "execute_result"
    }
   ],
   "source": [
    "df.dtypes"
   ]
  },
  {
   "cell_type": "code",
   "execution_count": null,
   "id": "7ad1c60c",
   "metadata": {},
   "outputs": [],
   "source": []
  }
 ],
 "metadata": {
  "kernelspec": {
   "display_name": "Python 3",
   "language": "python",
   "name": "python3"
  },
  "language_info": {
   "codemirror_mode": {
    "name": "ipython",
    "version": 3
   },
   "file_extension": ".py",
   "mimetype": "text/x-python",
   "name": "python",
   "nbconvert_exporter": "python",
   "pygments_lexer": "ipython3",
   "version": "3.13.5"
  }
 },
 "nbformat": 4,
 "nbformat_minor": 5
}
